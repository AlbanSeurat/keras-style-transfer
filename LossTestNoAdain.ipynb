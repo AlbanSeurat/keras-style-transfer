{
 "cells": [
  {
   "cell_type": "code",
   "execution_count": 1,
   "metadata": {},
   "outputs": [
    {
     "name": "stderr",
     "output_type": "stream",
     "text": [
      "/usr/local/lib/python3.6/site-packages/h5py/__init__.py:36: FutureWarning: Conversion of the second argument of issubdtype from `float` to `np.floating` is deprecated. In future, it will be treated as `np.float64 == np.dtype(float).type`.\n",
      "  from ._conv import register_converters as _register_converters\n",
      "Using TensorFlow backend.\n"
     ]
    }
   ],
   "source": [
    "from keras.applications import vgg19\n",
    "from keras import backend as K\n",
    "from keras_contrib.layers import InstanceNormalization\n",
    "from keras.models import Model\n",
    "from keras.layers import Input\n",
    "from keras.optimizers import Adam\n",
    "from matplotlib.pyplot import imshow\n",
    "from layers import AdaIN\n",
    "from models import EncoderModel, DecoderModel, Vgg19TruncatedModel, LossModel\n",
    "from utils import image_postprocess, NBatchLogger, list_images\n",
    "from debug import dump_model, display_layer\n",
    "import numpy as np\n",
    "from keras.datasets import cifar10\n",
    "\n",
    "%matplotlib inline "
   ]
  },
  {
   "cell_type": "code",
   "execution_count": 4,
   "metadata": {},
   "outputs": [],
   "source": [
    "src_model = Vgg19TruncatedModel('block1_conv1')\n",
    "\n",
    "encoder_model = EncoderModel(src_model)\n",
    "encoder_output = encoder_model.outputs[0]\n",
    "\n",
    "decoder_input = Input(batch_shape=encoder_output.shape, name=\"decoder_input\")\n",
    "\n",
    "decoder_model = DecoderModel(src_model, encoder_output.shape.as_list())\n",
    "decoder_output = decoder_model(decoder_input)\n",
    "\n",
    "adain_input = Input(batch_shape=encoder_output.shape.as_list(), name=\"adain_input\")\n",
    "\n",
    "loss_model = LossModel(src_model, encoder_output.shape.as_list())\n",
    "#loss_output = loss_model([decoder_output, decoder_output, adain_input])\n",
    "loss_output = loss_model([decoder_output])\n",
    "\n",
    "train_model = Model(inputs=[decoder_input, adain_input], outputs=[loss_output])"
   ]
  },
  {
   "cell_type": "code",
   "execution_count": 5,
   "metadata": {
    "scrolled": true
   },
   "outputs": [
    {
     "data": {
      "image/svg+xml": [
       "<svg height=\"215pt\" viewBox=\"0.00 0.00 663.69 215.00\" width=\"664pt\" xmlns=\"http://www.w3.org/2000/svg\" xmlns:xlink=\"http://www.w3.org/1999/xlink\">\n",
       "<g class=\"graph\" id=\"graph0\" transform=\"scale(1 1) rotate(0) translate(4 211)\">\n",
       "<title>G</title>\n",
       "<polygon fill=\"#ffffff\" points=\"-4,4 -4,-211 659.6943,-211 659.6943,4 -4,4\" stroke=\"transparent\"/>\n",
       "<!-- 4816574336 -->\n",
       "<g class=\"node\" id=\"node1\">\n",
       "<title>4816574336</title>\n",
       "<polygon fill=\"none\" points=\"0,-162.5 0,-206.5 655.6943,-206.5 655.6943,-162.5 0,-162.5\" stroke=\"#000000\"/>\n",
       "<text fill=\"#000000\" font-family=\"Times,serif\" font-size=\"14.00\" text-anchor=\"middle\" x=\"82.833\" y=\"-180.3\">decoder_input: InputLayer</text>\n",
       "<polyline fill=\"none\" points=\"165.666,-162.5 165.666,-206.5 \" stroke=\"#000000\"/>\n",
       "<text fill=\"#000000\" font-family=\"Times,serif\" font-size=\"14.00\" text-anchor=\"middle\" x=\"193.5005\" y=\"-191.3\">input:</text>\n",
       "<polyline fill=\"none\" points=\"165.666,-184.5 221.335,-184.5 \" stroke=\"#000000\"/>\n",
       "<text fill=\"#000000\" font-family=\"Times,serif\" font-size=\"14.00\" text-anchor=\"middle\" x=\"193.5005\" y=\"-169.3\">output:</text>\n",
       "<polyline fill=\"none\" points=\"221.335,-162.5 221.335,-206.5 \" stroke=\"#000000\"/>\n",
       "<text fill=\"#000000\" font-family=\"Times,serif\" font-size=\"14.00\" text-anchor=\"middle\" x=\"438.5146\" y=\"-191.3\">(Dimension(None), Dimension(None), Dimension(None), Dimension(64))</text>\n",
       "<polyline fill=\"none\" points=\"221.335,-184.5 655.6943,-184.5 \" stroke=\"#000000\"/>\n",
       "<text fill=\"#000000\" font-family=\"Times,serif\" font-size=\"14.00\" text-anchor=\"middle\" x=\"438.5146\" y=\"-169.3\">(Dimension(None), Dimension(None), Dimension(None), Dimension(64))</text>\n",
       "</g>\n",
       "<!-- 4820621576 -->\n",
       "<g class=\"node\" id=\"node2\">\n",
       "<title>4820621576</title>\n",
       "<polygon fill=\"none\" points=\"171.8555,-81.5 171.8555,-125.5 483.8389,-125.5 483.8389,-81.5 171.8555,-81.5\" stroke=\"#000000\"/>\n",
       "<text fill=\"#000000\" font-family=\"Times,serif\" font-size=\"14.00\" text-anchor=\"middle\" x=\"268.6816\" y=\"-99.3\">decoder_model: DecoderModel</text>\n",
       "<polyline fill=\"none\" points=\"365.5078,-81.5 365.5078,-125.5 \" stroke=\"#000000\"/>\n",
       "<text fill=\"#000000\" font-family=\"Times,serif\" font-size=\"14.00\" text-anchor=\"middle\" x=\"393.3423\" y=\"-110.3\">input:</text>\n",
       "<polyline fill=\"none\" points=\"365.5078,-103.5 421.1768,-103.5 \" stroke=\"#000000\"/>\n",
       "<text fill=\"#000000\" font-family=\"Times,serif\" font-size=\"14.00\" text-anchor=\"middle\" x=\"393.3423\" y=\"-88.3\">output:</text>\n",
       "<polyline fill=\"none\" points=\"421.1768,-81.5 421.1768,-125.5 \" stroke=\"#000000\"/>\n",
       "<text fill=\"#000000\" font-family=\"Times,serif\" font-size=\"14.00\" text-anchor=\"middle\" x=\"452.5078\" y=\"-110.3\">multiple</text>\n",
       "<polyline fill=\"none\" points=\"421.1768,-103.5 483.8389,-103.5 \" stroke=\"#000000\"/>\n",
       "<text fill=\"#000000\" font-family=\"Times,serif\" font-size=\"14.00\" text-anchor=\"middle\" x=\"452.5078\" y=\"-88.3\">multiple</text>\n",
       "</g>\n",
       "<!-- 4816574336&#45;&gt;4820621576 -->\n",
       "<g class=\"edge\" id=\"edge1\">\n",
       "<title>4816574336-&gt;4820621576</title>\n",
       "<path d=\"M327.8472,-162.3664C327.8472,-154.1516 327.8472,-144.6579 327.8472,-135.7252\" fill=\"none\" stroke=\"#000000\"/>\n",
       "<polygon fill=\"#000000\" points=\"331.3473,-135.6068 327.8472,-125.6068 324.3473,-135.6069 331.3473,-135.6068\" stroke=\"#000000\"/>\n",
       "</g>\n",
       "<!-- 4795700840 -->\n",
       "<g class=\"node\" id=\"node3\">\n",
       "<title>4795700840</title>\n",
       "<polygon fill=\"none\" points=\"190.0972,-.5 190.0972,-44.5 465.5972,-44.5 465.5972,-.5 190.0972,-.5\" stroke=\"#000000\"/>\n",
       "<text fill=\"#000000\" font-family=\"Times,serif\" font-size=\"14.00\" text-anchor=\"middle\" x=\"268.6816\" y=\"-18.3\">lossmodel_2: LossModel</text>\n",
       "<polyline fill=\"none\" points=\"347.2661,-.5 347.2661,-44.5 \" stroke=\"#000000\"/>\n",
       "<text fill=\"#000000\" font-family=\"Times,serif\" font-size=\"14.00\" text-anchor=\"middle\" x=\"375.1006\" y=\"-29.3\">input:</text>\n",
       "<polyline fill=\"none\" points=\"347.2661,-22.5 402.9351,-22.5 \" stroke=\"#000000\"/>\n",
       "<text fill=\"#000000\" font-family=\"Times,serif\" font-size=\"14.00\" text-anchor=\"middle\" x=\"375.1006\" y=\"-7.3\">output:</text>\n",
       "<polyline fill=\"none\" points=\"402.9351,-.5 402.9351,-44.5 \" stroke=\"#000000\"/>\n",
       "<text fill=\"#000000\" font-family=\"Times,serif\" font-size=\"14.00\" text-anchor=\"middle\" x=\"434.2661\" y=\"-29.3\">multiple</text>\n",
       "<polyline fill=\"none\" points=\"402.9351,-22.5 465.5972,-22.5 \" stroke=\"#000000\"/>\n",
       "<text fill=\"#000000\" font-family=\"Times,serif\" font-size=\"14.00\" text-anchor=\"middle\" x=\"434.2661\" y=\"-7.3\">multiple</text>\n",
       "</g>\n",
       "<!-- 4820621576&#45;&gt;4795700840 -->\n",
       "<g class=\"edge\" id=\"edge2\">\n",
       "<title>4820621576-&gt;4795700840</title>\n",
       "<path d=\"M327.8472,-81.3664C327.8472,-73.1516 327.8472,-63.6579 327.8472,-54.7252\" fill=\"none\" stroke=\"#000000\"/>\n",
       "<polygon fill=\"#000000\" points=\"331.3473,-54.6068 327.8472,-44.6068 324.3473,-54.6069 331.3473,-54.6068\" stroke=\"#000000\"/>\n",
       "</g>\n",
       "</g>\n",
       "</svg>"
      ],
      "text/plain": [
       "<IPython.core.display.SVG object>"
      ]
     },
     "execution_count": 5,
     "metadata": {},
     "output_type": "execute_result"
    }
   ],
   "source": [
    "dump_model(train_model)"
   ]
  },
  {
   "cell_type": "code",
   "execution_count": 7,
   "metadata": {},
   "outputs": [],
   "source": [
    "train_model.compile(optimizer='adam', loss='mean_squared_error')"
   ]
  },
  {
   "cell_type": "code",
   "execution_count": 8,
   "metadata": {},
   "outputs": [],
   "source": [
    "_ , (x, _) = cifar10.load_data()\n",
    "x = vgg19.preprocess_input(x.astype('float32'))\n",
    "\n",
    "#x = list_images(\"train2014\", limit=128, shape=(256,256,3))\n",
    "#x.shape"
   ]
  },
  {
   "cell_type": "code",
   "execution_count": 15,
   "metadata": {},
   "outputs": [],
   "source": [
    "x_conv1, _ = encoder_model.predict([x, x])"
   ]
  },
  {
   "cell_type": "code",
   "execution_count": 16,
   "metadata": {},
   "outputs": [
    {
     "data": {
      "text/plain": [
       "(10000, 32, 32, 64)"
      ]
     },
     "execution_count": 16,
     "metadata": {},
     "output_type": "execute_result"
    }
   ],
   "source": [
    "x_conv1.shape"
   ]
  },
  {
   "cell_type": "code",
   "execution_count": 21,
   "metadata": {},
   "outputs": [
    {
     "name": "stdout",
     "output_type": "stream",
     "text": [
      "Epoch 1/3\n",
      "10000/10000 [==============================] - 29s 3ms/step - loss: 157.6328\n",
      "Epoch 2/3\n",
      "10000/10000 [==============================] - 29s 3ms/step - loss: 157.4326\n",
      "Epoch 3/3\n",
      "10000/10000 [==============================] - 30s 3ms/step - loss: 157.2835\n"
     ]
    },
    {
     "data": {
      "text/plain": [
       "<keras.callbacks.History at 0x11f471c18>"
      ]
     },
     "execution_count": 21,
     "metadata": {},
     "output_type": "execute_result"
    }
   ],
   "source": [
    "train_model.fit([x_conv1, x_conv1], x_conv1, epochs=3, \\\n",
    "                  batch_size=128, shuffle=True)"
   ]
  },
  {
   "cell_type": "code",
   "execution_count": 22,
   "metadata": {},
   "outputs": [],
   "source": [
    "x_decoded = decoder_model.predict(x_conv1)"
   ]
  },
  {
   "cell_type": "code",
   "execution_count": 27,
   "metadata": {},
   "outputs": [
    {
     "data": {
      "text/plain": [
       "<matplotlib.image.AxesImage at 0x11981de48>"
      ]
     },
     "execution_count": 27,
     "metadata": {},
     "output_type": "execute_result"
    },
    {
     "data": {
      "image/png": "[encoded data removed]",
      "text/plain": [
       "<matplotlib.figure.Figure at 0x1197d9a90>"
      ]
     },
     "metadata": {},
     "output_type": "display_data"
    }
   ],
   "source": [
    "imshow(image_postprocess(x_decoded[4]))"
   ]
  },
  {
   "cell_type": "code",
   "execution_count": null,
   "metadata": {},
   "outputs": [],
   "source": []
  }
 ],
 "metadata": {
  "kernelspec": {
   "display_name": "Python 3",
   "language": "python",
   "name": "python3"
  },
  "language_info": {
   "codemirror_mode": {
    "name": "ipython",
    "version": 3
   },
   "file_extension": ".py",
   "mimetype": "text/x-python",
   "name": "python",
   "nbconvert_exporter": "python",
   "pygments_lexer": "ipython3",
   "version": "3.6.4"
  }
 },
 "nbformat": 4,
 "nbformat_minor": 1
}
